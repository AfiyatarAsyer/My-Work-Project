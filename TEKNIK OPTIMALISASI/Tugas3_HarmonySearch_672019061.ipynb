{
  "nbformat": 4,
  "nbformat_minor": 0,
  "metadata": {
    "colab": {
      "name": "Tugas3_HarmonySearch_672019061.ipynb",
      "provenance": [],
      "collapsed_sections": []
    },
    "kernelspec": {
      "name": "python3",
      "display_name": "Python 3"
    },
    "language_info": {
      "name": "python"
    }
  },
  "cells": [
    {
      "cell_type": "code",
      "execution_count": 122,
      "metadata": {
        "id": "WeexQi9Uwzsa"
      },
      "outputs": [],
      "source": [
        "import numpy as np\n",
        "import statistics as st\n",
        "import random\n",
        "from array import *\n",
        "import matplotlib.pyplot as plt\n",
        "import math"
      ]
    },
    {
      "cell_type": "code",
      "source": [
        "D = 3 #Banyak Variabel\n",
        "maxIterasi = 100 #Iterasi\n",
        "HMS = 7 #Harmony Memory Search\n",
        "BB = 0 #Batas bawah\n",
        "BA = 1 #Batas atas\n",
        "\n",
        "HMCR = 0.9 #Harmony Memory Consideration Rate\n",
        "PAR = 0.5 #Pitch Adjustment Rate\n",
        "BW = HMCR*(1-PAR) #Bandwidth"
      ],
      "metadata": {
        "id": "6kM-H7q-xY04"
      },
      "execution_count": 123,
      "outputs": []
    },
    {
      "cell_type": "code",
      "source": [
        "def HarmonyMemory(HMS, D, BA, BB):\n",
        "  HM = np.empty((HMS,D)) #Nilai didalam Harmony Memory\n",
        "  for i in range(HMS):\n",
        "    for j in range(D):\n",
        "      #Membangkitkan nilai acak \n",
        "      HM[i][j] = (random.random() * (BA - BB)) + BB \n",
        "  return HM\n",
        "\n",
        "HM = HarmonyMemory(HMS, D, BA,BB)\n",
        "print(HM)"
      ],
      "metadata": {
        "colab": {
          "base_uri": "https://localhost:8080/",
          "height": 0
        },
        "id": "TWIDppl3xDsC",
        "outputId": "697edf82-6b2d-479f-f5a8-56d397f1901b"
      },
      "execution_count": 124,
      "outputs": [
        {
          "output_type": "stream",
          "name": "stdout",
          "text": [
            "[[0.0963584  0.22579648 0.35418792]\n",
            " [0.05526352 0.23495672 0.03662776]\n",
            " [0.33765971 0.73243532 0.24154105]\n",
            " [0.71330956 0.4668491  0.06536853]\n",
            " [0.89189186 0.08509817 0.30169944]\n",
            " [0.53517705 0.76209457 0.66499882]\n",
            " [0.31728848 0.33079549 0.64880331]]\n"
          ]
        }
      ]
    },
    {
      "cell_type": "code",
      "source": [
        "def Fitness(populasi):\n",
        "  sz = populasi.shape\n",
        "  HMS = sz[0]\n",
        "  dimensi = sz[1]\n",
        "\n",
        "  #Menyimpan nilai Objective tiap individu pada inisialisasi Fit\n",
        "  Fit = np.empty(HMS)\n",
        "\n",
        "  for i in range(HMS):\n",
        "    d = 0\n",
        "    #Mencari nilai variabel dan disimpan dalam inisialiasi d\n",
        "    for j in range(dimensi):\n",
        "        #Permasalahan linear = 15x-x^2\n",
        "      d = np.sum( (15*( populasi[i][j] )) - (( populasi[i][j] )**2) )\n",
        "\n",
        "    Fit[i] = d #menyimpan nilai d didalam HM\n",
        "  return Fit\n",
        "\n",
        "F = Fitness(HM)\n",
        "print(F)"
      ],
      "metadata": {
        "colab": {
          "base_uri": "https://localhost:8080/",
          "height": 0
        },
        "id": "PSsmFZmax_St",
        "outputId": "537b1c82-42c2-413b-a211-7defa86292e1"
      },
      "execution_count": 125,
      "outputs": [
        {
          "output_type": "stream",
          "name": "stdout",
          "text": [
            "[5.18736965 0.5480748  3.56477374 0.97625486 4.43446898 9.53275892\n",
            " 9.31110385]\n"
          ]
        }
      ]
    },
    {
      "cell_type": "code",
      "source": [
        "def NewHarmony(populasi, PAR, j):\n",
        "  sz = populasi.shape\n",
        "  HMS = sz[0]\n",
        "  dimensi = sz[1]\n",
        "\n",
        "  #Memilih 3 individu dari populasi secara acak\n",
        "  r1 = random.randint(0,HMS - 1)\n",
        "  r2 = random.randint(0,HMS - 1)\n",
        "  r3 = random.randint(0,HMS - 1)\n",
        "\n",
        "  #Untuk mengantisipasi nilai error maka setiap hasil di modulo HMS\n",
        "  while r1 == r2:\n",
        "    r2 = (r2 + 1) % HMS\n",
        "  \n",
        "  while r3 == r1 or r3 == r2:\n",
        "    r3 = (r3 + 1) % HMS\n",
        "\n",
        "  v = HM[r3][j] + PAR*(HM[r1][j]-HM[r2][j]) #Nilai koordinat baru\n",
        "  return v\n",
        "\n",
        "v = NewHarmony(HM,PAR,1)\n",
        "print(v)"
      ],
      "metadata": {
        "colab": {
          "base_uri": "https://localhost:8080/",
          "height": 0
        },
        "id": "re1LeI-Cyd9N",
        "outputId": "af238abe-a0d0-4e41-b776-2b6cbe042f06"
      },
      "execution_count": 126,
      "outputs": [
        {
          "output_type": "stream",
          "name": "stdout",
          "text": [
            "0.19800237253949965\n"
          ]
        }
      ]
    },
    {
      "cell_type": "code",
      "source": [
        "def ImprovisasiHarmony(HM):\n",
        "  #HM = HarmonyMemory(HMS, D, BA,BB)\n",
        "  print(\"Inisialiasi Harmony Memory :\\n\",HM)\n",
        "  F = Fitness(HM)\n",
        "  print(\"\\nNilai Fitness per-Individu :\\n\",F)\n",
        "  #v = NewHarmony(HM,PAR,1)\n",
        "  newHM = np.empty((1,D))\n",
        "  FitBest = np.empty((maxIterasi+1))\n",
        "  FitBest[0] = F.min() \n",
        "  t = 0\n",
        "  while t < maxIterasi:\n",
        "    for i in range(HMS):\n",
        "      for j in range(D):\n",
        "        #Pemilihan Acak\n",
        "        randHMS = random.randint(0,HMS)\n",
        "        #Harmony Memory Consideration Rate\n",
        "        if randHMS < HMCR:\n",
        "          #HMrand = random.randint(0,HM)\n",
        "          newHM[0][j] = HM[i][j]\n",
        "          #Pitch Adjustment\n",
        "          if randHMS < PAR:\n",
        "            newHM[0][j] = newHM[0][j] - (randHMS*BW)\n",
        "            #newHM[0][j] = newHM[0][j] * (1-PAR)\n",
        "          else :\n",
        "            newHM[0][j] = newHM[0][j] + (randHMS*BW)\n",
        "        else :\n",
        "          newHM[0][j] = HM[i][j]\n",
        "    #Replacement\n",
        "    FitU = Fitness(newHM)\n",
        "    \n",
        "    if FitU < F[i]:\n",
        "      F[i] = FitU\n",
        "      for j in range(D):\n",
        "        F[i][j] = newHM[0,j]\n",
        "    FitBest[t] = F.min()\n",
        "    t+=1\n",
        "    return FitBest\n",
        "IndBest = ImprovisasiHarmony(HM)"
      ],
      "metadata": {
        "colab": {
          "base_uri": "https://localhost:8080/",
          "height": 0
        },
        "id": "wwQnrv8Y913f",
        "outputId": "59f78ed9-fcba-47b8-969f-cd019982b152"
      },
      "execution_count": 127,
      "outputs": [
        {
          "output_type": "stream",
          "name": "stdout",
          "text": [
            "Inisialiasi Harmony Memory :\n",
            " [[0.0963584  0.22579648 0.35418792]\n",
            " [0.05526352 0.23495672 0.03662776]\n",
            " [0.33765971 0.73243532 0.24154105]\n",
            " [0.71330956 0.4668491  0.06536853]\n",
            " [0.89189186 0.08509817 0.30169944]\n",
            " [0.53517705 0.76209457 0.66499882]\n",
            " [0.31728848 0.33079549 0.64880331]]\n",
            "\n",
            "Nilai Fitness per-Individu :\n",
            " [5.18736965 0.5480748  3.56477374 0.97625486 4.43446898 9.53275892\n",
            " 9.31110385]\n"
          ]
        }
      ]
    },
    {
      "cell_type": "code",
      "source": [
        "print(\"\\nIndividu Terbaik :\\n\",IndBest)"
      ],
      "metadata": {
        "colab": {
          "base_uri": "https://localhost:8080/",
          "height": 0
        },
        "id": "Ub9Qds22xewB",
        "outputId": "ddcd17a9-4045-4b33-e058-bd091f9532cd"
      },
      "execution_count": 128,
      "outputs": [
        {
          "output_type": "stream",
          "name": "stdout",
          "text": [
            "\n",
            "Individu Terbaik :\n",
            " [0.5480748 0.01      0.02      0.03      0.04      0.05      0.06\n",
            " 0.07      0.08      0.09      0.1       0.11      0.12      0.13\n",
            " 0.14      0.15      0.16      0.17      0.18      0.19      0.2\n",
            " 0.21      0.22      0.23      0.24      0.25      0.26      0.27\n",
            " 0.28      0.29      0.3       0.31      0.32      0.33      0.34\n",
            " 0.35      0.36      0.37      0.38      0.39      0.4       0.41\n",
            " 0.42      0.43      0.44      0.45      0.46      0.47      0.48\n",
            " 0.49      0.5       0.51      0.52      0.53      0.54      0.55\n",
            " 0.56      0.57      0.58      0.59      0.6       0.61      0.62\n",
            " 0.63      0.64      0.65      0.66      0.67      0.68      0.69\n",
            " 0.7       0.71      0.72      0.73      0.74      0.75      0.76\n",
            " 0.77      0.78      0.79      0.8       0.81      0.82      0.83\n",
            " 0.84      0.85      0.86      0.87      0.88      0.89      0.9\n",
            " 0.91      0.92      0.93      0.94      0.95      0.96      0.97\n",
            " 0.98      0.99      1.       ]\n"
          ]
        }
      ]
    },
    {
      "cell_type": "code",
      "source": [
        "x = np.linspace(0,1,maxIterasi + 1)\n",
        "plt.plot(x, IndBest, label='f=F')\n",
        "plt.show()"
      ],
      "metadata": {
        "colab": {
          "base_uri": "https://localhost:8080/",
          "height": 265
        },
        "id": "NZiSiPERiaeP",
        "outputId": "25c82cfb-4569-4ffc-f113-12a455de2383"
      },
      "execution_count": 129,
      "outputs": [
        {
          "output_type": "display_data",
          "data": {
            "text/plain": [
              "<Figure size 432x288 with 1 Axes>"
            ],
            "image/png": "[encoded data removed]"
          },
          "metadata": {
            "needs_background": "light"
          }
        }
      ]
    }
  ]
}